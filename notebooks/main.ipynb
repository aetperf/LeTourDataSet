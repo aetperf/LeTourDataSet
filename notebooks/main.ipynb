{
    "metadata": {
        "kernelspec": {
            "name": "python3",
            "display_name": "Python 3",
            "language": "python"
        },
        "language_info": {
            "name": "python",
            "version": "3.11.5",
            "mimetype": "text/x-python",
            "codemirror_mode": {
                "name": "ipython",
                "version": 3
            },
            "pygments_lexer": "ipython3",
            "nbconvert_exporter": "python",
            "file_extension": ".py"
        }
    },
    "nbformat_minor": 2,
    "nbformat": 4,
    "cells": [
        {
            "cell_type": "markdown",
            "source": [
                "# LeTour data set \n",
                "This file downloads raw data about every rider of every Tour de France (from 1903 up to 2020). This data will then be postprocessed and stored in CSV format.\n",
                "Executing this notebook might take some minutes."
            ],
            "metadata": {
                "azdata_cell_guid": "a6aa1c8e-04bd-4f2b-abc0-82632ffd2439"
            }
        },
        {
            "cell_type": "code",
            "source": [
                "!pip install -r requirements.txt"
            ],
            "metadata": {
                "azdata_cell_guid": "156cc9b7-a83f-4dd9-990a-9aa9b217c4df",
                "language": "python"
            },
            "outputs": [],
            "execution_count": null
        },
        {
            "cell_type": "markdown",
            "source": [
                "## 1) Retrieve urls for data extract\n",
                "First we generate the urls that we need to download the raw HTML pages from the `letour.fr` website to work offline from here on. The dataframe dflink will stores the respective url for each year.\n",
                "Take a look at `view-source:https://www.letour.fr/en/history` (at around line 1143-1890).  "
            ],
            "metadata": {
                "azdata_cell_guid": "effcdea0-693c-4387-81e6-41ea9fa951e4"
            }
        },
        {
            "cell_type": "code",
            "source": [
                "import collections\n",
                "import datetime\n",
                "import os\n",
                "import re\n",
                "import subprocess\n",
                "import time\n",
                "from io import StringIO\n",
                "from pathlib import Path\n",
                "\n",
                "import numpy as np\n",
                "import pandas as pd\n",
                "import requests\n",
                "from bs4 import BeautifulSoup"
            ],
            "metadata": {
                "azdata_cell_guid": "1859351a-eca4-49e8-8840-f54e504b4b38",
                "language": "python",
                "tags": []
            },
            "outputs": [],
            "execution_count": 59
        },
        {
            "cell_type": "code",
            "source": [
                "PREFIX = \"http://www.letour.fr\"\n",
                "HISTORYPAGE = \"https://www.letour.fr/en/history\""
            ],
            "metadata": {
                "azdata_cell_guid": "d1b12802-1d6d-422b-828b-79b24bc91744",
                "language": "python",
                "tags": []
            },
            "outputs": [],
            "execution_count": 60
        },
        {
            "cell_type": "code",
            "source": [
                "headers = {\n",
                "    \"Accept\": \"text/html\",\n",
                "    \"User-Agent\": \"python-requests/1.2.0\",\n",
                "    \"Accept-Charset\": \"utf-8\",\n",
                "    \"accept-encoding\": \"deflate, br\",\n",
                "}"
            ],
            "metadata": {
                "azdata_cell_guid": "00b91543-17b5-423a-a4e0-a6b4dbd67735",
                "language": "python",
                "tags": []
            },
            "outputs": [],
            "execution_count": 61
        },
        {
            "cell_type": "code",
            "source": [
                "resulthistpage = requests.get(HISTORYPAGE, allow_redirects=True, headers=headers)\n",
                "souphistory = BeautifulSoup(resulthistpage.text, \"html.parser\")"
            ],
            "metadata": {
                "azdata_cell_guid": "8561b6ea-dfef-46f7-8c6f-0c0f86bfa002",
                "language": "python",
                "tags": []
            },
            "outputs": [],
            "execution_count": 62
        },
        {
            "cell_type": "code",
            "source": [
                "# Find all option elements with the data-tabs-ajax attribute\r\n",
                "options = souphistory.find_all('option', {'data-tabs-ajax': True})\r\n",
                "\r\n",
                "# Extract the data-tabs-ajax attributes\r\n",
                "data_tabs_ajax_values = [option['data-tabs-ajax'] for option in options]\r\n",
                "\r\n",
                "# Create a DataFrame with the extracted values\r\n",
                "dflink = pd.DataFrame(data_tabs_ajax_values, columns=['TDFHistorylink'])\r\n",
                "dflink"
            ],
            "metadata": {
                "language": "python",
                "azdata_cell_guid": "dfb68e5f-7e6e-41dc-b3cf-793bffbedf00"
            },
            "outputs": [
                {
                    "data": {
                        "text/plain": "                                        TDFHistorylink\n0    /en/block/history/11823/4e4949d130f21278f7d8bc...\n1    /en/block/history/11822/ca646e1b4b99d7ee973c45...\n2    /en/block/history/11821/a3fe7d350ef546e3c27ae8...\n3    /en/block/history/11820/17fa8e795e69e9f326ea26...\n4    /en/block/history/11819/96c0eb3fa403ebf222f28b...\n..                                                 ...\n105  /en/block/history/10711/f558d3bc819c8ee5dc627d...\n106  /en/block/history/10710/ead1d1704b1600c795619e...\n107  /en/block/history/10709/c5f53ced72a23f333cc186...\n108  /en/block/history/10708/0b76b8f809ad5d8bcf3579...\n109  /en/block/history/10707/d0ab6a216569236433268b...\n\n[110 rows x 1 columns]",
                        "text/html": "<div>\n<style scoped>\n    .dataframe tbody tr th:only-of-type {\n        vertical-align: middle;\n    }\n\n    .dataframe tbody tr th {\n        vertical-align: top;\n    }\n\n    .dataframe thead th {\n        text-align: right;\n    }\n</style>\n<table border=\"1\" class=\"dataframe\">\n  <thead>\n    <tr style=\"text-align: right;\">\n      <th></th>\n      <th>TDFHistorylink</th>\n    </tr>\n  </thead>\n  <tbody>\n    <tr>\n      <th>0</th>\n      <td>/en/block/history/11823/4e4949d130f21278f7d8bc...</td>\n    </tr>\n    <tr>\n      <th>1</th>\n      <td>/en/block/history/11822/ca646e1b4b99d7ee973c45...</td>\n    </tr>\n    <tr>\n      <th>2</th>\n      <td>/en/block/history/11821/a3fe7d350ef546e3c27ae8...</td>\n    </tr>\n    <tr>\n      <th>3</th>\n      <td>/en/block/history/11820/17fa8e795e69e9f326ea26...</td>\n    </tr>\n    <tr>\n      <th>4</th>\n      <td>/en/block/history/11819/96c0eb3fa403ebf222f28b...</td>\n    </tr>\n    <tr>\n      <th>...</th>\n      <td>...</td>\n    </tr>\n    <tr>\n      <th>105</th>\n      <td>/en/block/history/10711/f558d3bc819c8ee5dc627d...</td>\n    </tr>\n    <tr>\n      <th>106</th>\n      <td>/en/block/history/10710/ead1d1704b1600c795619e...</td>\n    </tr>\n    <tr>\n      <th>107</th>\n      <td>/en/block/history/10709/c5f53ced72a23f333cc186...</td>\n    </tr>\n    <tr>\n      <th>108</th>\n      <td>/en/block/history/10708/0b76b8f809ad5d8bcf3579...</td>\n    </tr>\n    <tr>\n      <th>109</th>\n      <td>/en/block/history/10707/d0ab6a216569236433268b...</td>\n    </tr>\n  </tbody>\n</table>\n<p>110 rows × 1 columns</p>\n</div>"
                    },
                    "metadata": {},
                    "execution_count": 63,
                    "output_type": "execute_result"
                }
            ],
            "execution_count": 63
        },
        {
            "cell_type": "markdown",
            "source": [
                "## 2) Get data from HTML pages and convert results to dataframes"
            ],
            "metadata": {
                "azdata_cell_guid": "ed3c9e7d-43c9-4fd9-8f79-771fe9fddc44"
            }
        },
        {
            "cell_type": "markdown",
            "source": [
                "### 2.1) Create function that convert HHh mm' ss'' to seconds"
            ],
            "metadata": {
                "azdata_cell_guid": "66c30e6c-0a98-492e-ba77-e5602479f608"
            }
        },
        {
            "cell_type": "code",
            "source": [
                "def calcTotalSeconds(row, mode):\n",
                "    val = sum(\n",
                "        x * int(t)\n",
                "        for x, t in zip(\n",
                "            [3600, 60, 1],\n",
                "            row.replace(\"h\", \":\")\n",
                "            .replace(\"'\", \":\")\n",
                "            .replace('\"', \":\")\n",
                "            .replace(\" \", \"\")\n",
                "            .replace(\"+\", \"\")\n",
                "            .replace(\"-\", \"0\")\n",
                "            .split(\":\"),\n",
                "        )\n",
                "    )\n",
                "\n",
                "    if (mode == \"Gap\") and val > 180000:\n",
                "        val = 0\n",
                "\n",
                "    return val"
            ],
            "metadata": {
                "azdata_cell_guid": "c30574e5-d69c-4eff-ac54-2577577fd470",
                "language": "python",
                "tags": []
            },
            "outputs": [],
            "execution_count": 64
        },
        {
            "cell_type": "markdown",
            "source": [
                "### 2.2) Create a function that will retrieve elements from a source HTML page located on an input url"
            ],
            "metadata": {
                "azdata_cell_guid": "28ecdf5d-db79-4994-825f-9b228a278070"
            }
        },
        {
            "cell_type": "code",
            "source": [
                "def getstagesNrank(i_url):\r\n",
                "    resultfull = requests.get(i_url, allow_redirects=True)\r\n",
                "    result = resultfull.text\r\n",
                "    resultstatus = resultfull.status_code\r\n",
                "\r\n",
                "    print(i_url + \" ==> HTTP STATUS = \" + str(resultstatus))\r\n",
                "\r\n",
                "    soup = BeautifulSoup(result, \"html.parser\")\r\n",
                "    h = soup.find(\"h3\")\r\n",
                "    year = int(h.text[-4:])\r\n",
                "\r\n",
                "    # Find select tag\r\n",
                "    select_tag = soup.find(\"select\")\r\n",
                "\r\n",
                "    # find all option tag inside select tag\r\n",
                "    options = select_tag.find_all(\"option\")\r\n",
                "\r\n",
                "    cols = [\"Year\", \"TotalTDFDistance\", \"Stage\"]\r\n",
                "    lst = []\r\n",
                "\r\n",
                "    # search for stages\r\n",
                "    distance = soup.select(\"[class~=statsInfos__number]\")[1].contents\r\n",
                "\r\n",
                "    # search for distance of the TDF edition\r\n",
                "    for option in options:\r\n",
                "        lst.append([year, int(distance[0].replace(\" \", \"\")), option.text])\r\n",
                "\r\n",
                "    dfstages = pd.DataFrame(lst, columns=cols)\r\n",
                "\r\n",
                "    # Find select tag for ranking racers\r\n",
                "    rankingTable = soup.find(\"table\")\r\n",
                "\r\n",
                "    # Wrap the HTML string in a StringIO object\r\n",
                "    html_io = StringIO(str(rankingTable))\r\n",
                "\r\n",
                "    # Use pd.read_html with the StringIO object\r\n",
                "    dfrank = pd.read_html(html_io)[0]\r\n",
                "\r\n",
                "    dfrank[\"Year\"] = year\r\n",
                "    dfrank[\"Distance (km)\"] = int(distance[0].replace(\" \", \"\"))\r\n",
                "    dfrank[\"Number of stages\"] = len(dfstages)\r\n",
                "    dfrank[\"TotalSeconds\"] = dfrank[\"Times\"].apply(\r\n",
                "        lambda x: calcTotalSeconds(x, \"Total\")\r\n",
                "    )\r\n",
                "    dfrank[\"GapSeconds\"] = dfrank[\"Gap\"].apply(lambda x: calcTotalSeconds(x, \"Gap\"))\r\n",
                "\r\n",
                "    return dfstages, dfrank"
            ],
            "metadata": {
                "azdata_cell_guid": "110b6914-8465-44ce-9c50-d702349d5b68",
                "language": "python"
            },
            "outputs": [],
            "execution_count": 65
        },
        {
            "cell_type": "code",
            "source": [
                "def getstagesNrank(i_url):\n",
                "    resultfull = requests.get(i_url, allow_redirects=True)\n",
                "    result = resultfull.text\n",
                "    resultstatus = resultfull.status_code\n",
                "\n",
                "    print(i_url + \" ==> HTTP STATUS = \" + str(resultstatus))\n",
                "\n",
                "    soup = BeautifulSoup(result, \"html.parser\")\n",
                "    h = soup.find(\"h3\")\n",
                "    year = int(h.text[-4:])\n",
                "\n",
                "    # Find select tag\n",
                "    select_tag = soup.find(\"select\")\n",
                "\n",
                "    # find all option tag inside select tag\n",
                "    options = select_tag.find_all(\"option\")\n",
                "\n",
                "    cols = [\"Year\", \"TotalTDFDistance\", \"Stage\"]\n",
                "    lst = []\n",
                "\n",
                "    # search for stages\n",
                "    distance = soup.select(\"[class~=statsInfos__number]\")[1].contents\n",
                "\n",
                "    # search for distance of the TDF edition\n",
                "    for option in options:\n",
                "        lst.append([year, int(distance[0].replace(\" \", \"\")), option.text])\n",
                "\n",
                "    dfstages = pd.DataFrame(lst, columns=cols)\n",
                "\n",
                "    # Find select tag for ranking racers\n",
                "    rankingTable = soup.find(\"table\")\n",
                "\n",
                "    dfrank = pd.read_html(str(rankingTable))[0]\n",
                "\n",
                "    dfrank[\"Year\"] = year\n",
                "    dfrank[\"Distance (km)\"] = int(distance[0].replace(\" \", \"\"))\n",
                "    dfrank[\"Number of stages\"] = len(dfstages)\n",
                "    dfrank[\"TotalSeconds\"] = dfrank[\"Times\"].apply(\n",
                "        lambda x: calcTotalSeconds(x, \"Total\")\n",
                "    )\n",
                "    dfrank[\"GapSeconds\"] = dfrank[\"Gap\"].apply(lambda x: calcTotalSeconds(x, \"Gap\"))\n",
                "\n",
                "    return dfstages, dfrank"
            ],
            "metadata": {
                "azdata_cell_guid": "70622fa0-f5af-4bda-b433-e2065b2db03e",
                "language": "python",
                "tags": []
            },
            "outputs": [],
            "execution_count": null
        },
        {
            "cell_type": "markdown",
            "source": [
                "### 2.3) Loop on the dflink dataframe to get data from each url source"
            ],
            "metadata": {
                "azdata_cell_guid": "cb608a73-e919-46fd-843f-ab76d1ccbcd9"
            }
        },
        {
            "cell_type": "code",
            "source": [
                "# Reverse the DataFrame to process the links in the desired order\r\n",
                "dflink_reversed = dflink.iloc[::-1].reset_index(drop=True)\r\n",
                "\r\n",
                "dflink_reversed"
            ],
            "metadata": {
                "language": "python",
                "azdata_cell_guid": "89597fd8-2939-41c1-89b9-1a5b08bf2296"
            },
            "outputs": [
                {
                    "data": {
                        "text/plain": "                                        TDFHistorylink\n0    /en/block/history/10707/d0ab6a216569236433268b...\n1    /en/block/history/10708/0b76b8f809ad5d8bcf3579...\n2    /en/block/history/10709/c5f53ced72a23f333cc186...\n3    /en/block/history/10710/ead1d1704b1600c795619e...\n4    /en/block/history/10711/f558d3bc819c8ee5dc627d...\n..                                                 ...\n105  /en/block/history/11819/96c0eb3fa403ebf222f28b...\n106  /en/block/history/11820/17fa8e795e69e9f326ea26...\n107  /en/block/history/11821/a3fe7d350ef546e3c27ae8...\n108  /en/block/history/11822/ca646e1b4b99d7ee973c45...\n109  /en/block/history/11823/4e4949d130f21278f7d8bc...\n\n[110 rows x 1 columns]",
                        "text/html": "<div>\n<style scoped>\n    .dataframe tbody tr th:only-of-type {\n        vertical-align: middle;\n    }\n\n    .dataframe tbody tr th {\n        vertical-align: top;\n    }\n\n    .dataframe thead th {\n        text-align: right;\n    }\n</style>\n<table border=\"1\" class=\"dataframe\">\n  <thead>\n    <tr style=\"text-align: right;\">\n      <th></th>\n      <th>TDFHistorylink</th>\n    </tr>\n  </thead>\n  <tbody>\n    <tr>\n      <th>0</th>\n      <td>/en/block/history/10707/d0ab6a216569236433268b...</td>\n    </tr>\n    <tr>\n      <th>1</th>\n      <td>/en/block/history/10708/0b76b8f809ad5d8bcf3579...</td>\n    </tr>\n    <tr>\n      <th>2</th>\n      <td>/en/block/history/10709/c5f53ced72a23f333cc186...</td>\n    </tr>\n    <tr>\n      <th>3</th>\n      <td>/en/block/history/10710/ead1d1704b1600c795619e...</td>\n    </tr>\n    <tr>\n      <th>4</th>\n      <td>/en/block/history/10711/f558d3bc819c8ee5dc627d...</td>\n    </tr>\n    <tr>\n      <th>...</th>\n      <td>...</td>\n    </tr>\n    <tr>\n      <th>105</th>\n      <td>/en/block/history/11819/96c0eb3fa403ebf222f28b...</td>\n    </tr>\n    <tr>\n      <th>106</th>\n      <td>/en/block/history/11820/17fa8e795e69e9f326ea26...</td>\n    </tr>\n    <tr>\n      <th>107</th>\n      <td>/en/block/history/11821/a3fe7d350ef546e3c27ae8...</td>\n    </tr>\n    <tr>\n      <th>108</th>\n      <td>/en/block/history/11822/ca646e1b4b99d7ee973c45...</td>\n    </tr>\n    <tr>\n      <th>109</th>\n      <td>/en/block/history/11823/4e4949d130f21278f7d8bc...</td>\n    </tr>\n  </tbody>\n</table>\n<p>110 rows × 1 columns</p>\n</div>"
                    },
                    "metadata": {},
                    "execution_count": 69,
                    "output_type": "execute_result"
                }
            ],
            "execution_count": 69
        },
        {
            "cell_type": "code",
            "source": [
                "dfstagesrestmp = pd.DataFrame()\n",
                "dfrankrestmp = pd.DataFrame()\n",
                "\n",
                "\n",
                "\n",
                "for index, row in dflink_reversed.iterrows():\n",
                "    url = PREFIX + row[\"TDFHistorylink\"]\n",
                "    try:\n",
                "        if index >= 12:  # limit from 1919 (data need to be cleaned a little bit more before that)\n",
                "            dfstagesres, dfrankres = getstagesNrank(url)\n",
                "            dfstagesrestmp = pd.concat((dfstagesrestmp, dfstagesres), axis=0)\n",
                "            dfrankrestmp = pd.concat((dfrankrestmp, dfrankres), axis=0)\n",
                "    except Exception as e:\n",
                "        print(f\"An error occurred: {e}\")\n",
                "        raise"
            ],
            "metadata": {
                "azdata_cell_guid": "d7e093e9-68a8-479e-a029-ceb5c068669d",
                "language": "python",
                "tags": []
            },
            "outputs": [
                {
                    "name": "stdout",
                    "text": "http://www.letour.fr/en/block/history/10719/f15cf81b7599ea113d2b1d614f73bf83 ==> HTTP STATUS = 200\n",
                    "output_type": "stream"
                },
                {
                    "name": "stdout",
                    "text": "http://www.letour.fr/en/block/history/10720/53ac40095834ae1aae5d197aa730799a ==> HTTP STATUS = 200\n",
                    "output_type": "stream"
                },
                {
                    "name": "stdout",
                    "text": "http://www.letour.fr/en/block/history/10721/c663ba39ac60d58c55a1a787a23025fc ==> HTTP STATUS = 200\n",
                    "output_type": "stream"
                },
                {
                    "name": "stdout",
                    "text": "http://www.letour.fr/en/block/history/10722/cc5d0ba48a5d9bd9ee5e222160452b6f ==> HTTP STATUS = 200\n",
                    "output_type": "stream"
                },
                {
                    "name": "stdout",
                    "text": "http://www.letour.fr/en/block/history/10723/9212137527c3f19c0cfccd1d07d80649 ==> HTTP STATUS = 200\n",
                    "output_type": "stream"
                },
                {
                    "name": "stdout",
                    "text": "http://www.letour.fr/en/block/history/10724/61621b1b7012e711ae7457a04e123aab ==> HTTP STATUS = 200\n",
                    "output_type": "stream"
                },
                {
                    "name": "stdout",
                    "text": "http://www.letour.fr/en/block/history/10725/326ccc005b547ad2ad33e2fc03d27159 ==> HTTP STATUS = 200\n",
                    "output_type": "stream"
                },
                {
                    "name": "stdout",
                    "text": "http://www.letour.fr/en/block/history/10726/417b583aab876fdb00496da5c2be1a7d ==> HTTP STATUS = 200\n",
                    "output_type": "stream"
                },
                {
                    "name": "stdout",
                    "text": "http://www.letour.fr/en/block/history/10727/0ab2dd4f425fcdcb9cc0a1511f49c494 ==> HTTP STATUS = 200\n",
                    "output_type": "stream"
                },
                {
                    "name": "stdout",
                    "text": "http://www.letour.fr/en/block/history/10728/58abb1c5f80d5d1b088ead3c32a5a815 ==> HTTP STATUS = 200\n",
                    "output_type": "stream"
                },
                {
                    "name": "stdout",
                    "text": "http://www.letour.fr/en/block/history/10729/323ab10f97b3b3b6c865b63dcecf7e88 ==> HTTP STATUS = 200\n",
                    "output_type": "stream"
                },
                {
                    "name": "stdout",
                    "text": "http://www.letour.fr/en/block/history/10730/9047f2218cebb70010ff9fc50585e204 ==> HTTP STATUS = 200\n",
                    "output_type": "stream"
                },
                {
                    "name": "stdout",
                    "text": "http://www.letour.fr/en/block/history/10731/71efd6183471464d6be619275e187eee ==> HTTP STATUS = 200\n",
                    "output_type": "stream"
                },
                {
                    "name": "stdout",
                    "text": "http://www.letour.fr/en/block/history/10732/994e5d74cdaede876fec2b451051c8e1 ==> HTTP STATUS = 200\n",
                    "output_type": "stream"
                },
                {
                    "name": "stdout",
                    "text": "http://www.letour.fr/en/block/history/10733/be923012b4124a9bd0991212e9977d42 ==> HTTP STATUS = 200\n",
                    "output_type": "stream"
                },
                {
                    "name": "stdout",
                    "text": "http://www.letour.fr/en/block/history/10734/aed1c90b119f634ebc5d1e7e6a671faf ==> HTTP STATUS = 200\nhttp://www.letour.fr/en/block/history/10735/05bd6d64c780c558f7ffd7bd5879c776 ==> HTTP STATUS = 200\n",
                    "output_type": "stream"
                },
                {
                    "name": "stdout",
                    "text": "http://www.letour.fr/en/block/history/10736/53cfbe0f209af0e4d92fff714bf2f18d ==> HTTP STATUS = 200\n",
                    "output_type": "stream"
                },
                {
                    "name": "stdout",
                    "text": "http://www.letour.fr/en/block/history/10737/c40634701bbc32655fc85bb3ddde49f5 ==> HTTP STATUS = 200\n",
                    "output_type": "stream"
                },
                {
                    "name": "stdout",
                    "text": "http://www.letour.fr/en/block/history/10738/c2d7990fb2a094d495e11e8098c59c51 ==> HTTP STATUS = 200\n",
                    "output_type": "stream"
                },
                {
                    "name": "stdout",
                    "text": "http://www.letour.fr/en/block/history/10739/e8866f6cc4d0163829c95efc4a729463 ==> HTTP STATUS = 200\n",
                    "output_type": "stream"
                },
                {
                    "name": "stdout",
                    "text": "http://www.letour.fr/en/block/history/10740/c5548896e2ae8715122b3989d3ed76b1 ==> HTTP STATUS = 200\n",
                    "output_type": "stream"
                },
                {
                    "name": "stdout",
                    "text": "http://www.letour.fr/en/block/history/10741/a722302e475af7214500f16e424e25d0 ==> HTTP STATUS = 200\nhttp://www.letour.fr/en/block/history/10742/dfaf06d272727e8b57b63f72fcdbafa8 ==> HTTP STATUS = 200",
                    "output_type": "stream"
                },
                {
                    "name": "stdout",
                    "text": "\nhttp://www.letour.fr/en/block/history/10743/5a9ece659139988007c4e0f6f9fc5c20 ==> HTTP STATUS = 200\n",
                    "output_type": "stream"
                },
                {
                    "name": "stdout",
                    "text": "http://www.letour.fr/en/block/history/10744/367ba379f6d341a7bdc545a122d3c78d ==> HTTP STATUS = 200\nhttp://www.letour.fr/en/block/history/10745/7381958972518a9845edee052c8edbfc ==> HTTP STATUS = 200\n",
                    "output_type": "stream"
                },
                {
                    "name": "stdout",
                    "text": "http://www.letour.fr/en/block/history/10746/45ef03cc5c64c264bf96bf08d4384d3d ==> HTTP STATUS = 200\n",
                    "output_type": "stream"
                },
                {
                    "name": "stdout",
                    "text": "http://www.letour.fr/en/block/history/10747/98d1ca2953df385a9bc1c7b1b4749b2b ==> HTTP STATUS = 200\n",
                    "output_type": "stream"
                },
                {
                    "name": "stdout",
                    "text": "http://www.letour.fr/en/block/history/10748/1f6f715544c4aec948adcb4085900c4c ==> HTTP STATUS = 200\n",
                    "output_type": "stream"
                },
                {
                    "name": "stdout",
                    "text": "http://www.letour.fr/en/block/history/10749/a896b855e40db82c92217ccdd5532cdb ==> HTTP STATUS = 200\n",
                    "output_type": "stream"
                },
                {
                    "name": "stdout",
                    "text": "http://www.letour.fr/en/block/history/10750/e072737429413b7d608e99db5313b13e ==> HTTP STATUS = 200\n",
                    "output_type": "stream"
                },
                {
                    "name": "stdout",
                    "text": "http://www.letour.fr/en/block/history/10751/bb0f8df099b6e1f53064105d9e789f1f ==> HTTP STATUS = 200\n",
                    "output_type": "stream"
                },
                {
                    "name": "stdout",
                    "text": "http://www.letour.fr/en/block/history/10752/cb437a1a3262575de6df27be96d2cd55 ==> HTTP STATUS = 200\n",
                    "output_type": "stream"
                },
                {
                    "name": "stdout",
                    "text": "http://www.letour.fr/en/block/history/10753/e890ae42c19946e34da655a909f98bfe ==> HTTP STATUS = 200\n",
                    "output_type": "stream"
                },
                {
                    "name": "stdout",
                    "text": "http://www.letour.fr/en/block/history/10754/1e38a3d734b196c4f8ac6ba7063b218b ==> HTTP STATUS = 200\n",
                    "output_type": "stream"
                },
                {
                    "name": "stdout",
                    "text": "http://www.letour.fr/en/block/history/10755/ff596257302baac39a22e1f2e4faf016 ==> HTTP STATUS = 200\n",
                    "output_type": "stream"
                },
                {
                    "name": "stdout",
                    "text": "http://www.letour.fr/en/block/history/10756/89a04a27336b19dfe4d6a4ea2ee46582 ==> HTTP STATUS = 200\n",
                    "output_type": "stream"
                },
                {
                    "name": "stdout",
                    "text": "http://www.letour.fr/en/block/history/10757/a7983332f5a930e28087ae63a7874475 ==> HTTP STATUS = 200\n",
                    "output_type": "stream"
                },
                {
                    "name": "stdout",
                    "text": "http://www.letour.fr/en/block/history/10758/56a4797d820f12ec56f06298fab868b9 ==> HTTP STATUS = 200\n",
                    "output_type": "stream"
                },
                {
                    "name": "stdout",
                    "text": "http://www.letour.fr/en/block/history/10759/07dc37874db6b049e640b253672cf299 ==> HTTP STATUS = 200\nhttp://www.letour.fr/en/block/history/10760/3b171e28d17eb88dbb829f02a9fb3709 ==> HTTP STATUS = 200\n",
                    "output_type": "stream"
                },
                {
                    "name": "stdout",
                    "text": "http://www.letour.fr/en/block/history/10761/c3e23b93c3d11a653857785d1136ffb6 ==> HTTP STATUS = 200\nhttp://www.letour.fr/en/block/history/10762/e5cba06222169e8ea482b253c93fd5b9 ==> HTTP STATUS = 200\n",
                    "output_type": "stream"
                },
                {
                    "name": "stdout",
                    "text": "http://www.letour.fr/en/block/history/10763/adf45f6a131be9ab505e4d0f100418f7 ==> HTTP STATUS = 200\n",
                    "output_type": "stream"
                },
                {
                    "name": "stdout",
                    "text": "http://www.letour.fr/en/block/history/10764/9be91c73090072a334e97ec5d9b692b2 ==> HTTP STATUS = 200\n",
                    "output_type": "stream"
                },
                {
                    "name": "stdout",
                    "text": "http://www.letour.fr/en/block/history/10765/1602abcaab318c332c1479ecd27154e1 ==> HTTP STATUS = 200\n",
                    "output_type": "stream"
                },
                {
                    "name": "stdout",
                    "text": "http://www.letour.fr/en/block/history/10766/5f1300708ea73ac042645afd5da10e29 ==> HTTP STATUS = 200\n",
                    "output_type": "stream"
                },
                {
                    "name": "stdout",
                    "text": "http://www.letour.fr/en/block/history/10767/62b2104a378309ef9ac5acc908e600df ==> HTTP STATUS = 200\n",
                    "output_type": "stream"
                },
                {
                    "name": "stdout",
                    "text": "http://www.letour.fr/en/block/history/10768/12626d9920ed70ad18cdc7869e493ee0 ==> HTTP STATUS = 200\n",
                    "output_type": "stream"
                },
                {
                    "name": "stdout",
                    "text": "http://www.letour.fr/en/block/history/10769/9184e05910d640ad1af5cccc9321adbb ==> HTTP STATUS = 200\n",
                    "output_type": "stream"
                },
                {
                    "name": "stdout",
                    "text": "http://www.letour.fr/en/block/history/10770/0b714daa83b004421e81d0ef62c8c0f3 ==> HTTP STATUS = 200\n",
                    "output_type": "stream"
                },
                {
                    "name": "stdout",
                    "text": "http://www.letour.fr/en/block/history/10771/395c856712f93e5289971151df458a61 ==> HTTP STATUS = 200\n",
                    "output_type": "stream"
                },
                {
                    "name": "stdout",
                    "text": "http://www.letour.fr/en/block/history/10772/3108137894d31c631408c1e2ac5510bb ==> HTTP STATUS = 200\n",
                    "output_type": "stream"
                },
                {
                    "name": "stdout",
                    "text": "http://www.letour.fr/en/block/history/10773/ad0e4cf5a083a40d11bb15d1404559ed ==> HTTP STATUS = 200\n",
                    "output_type": "stream"
                },
                {
                    "name": "stdout",
                    "text": "http://www.letour.fr/en/block/history/10774/5a2702b95bc1f297980241915b0c0eee ==> HTTP STATUS = 200\n",
                    "output_type": "stream"
                },
                {
                    "name": "stdout",
                    "text": "http://www.letour.fr/en/block/history/10775/6365159573723beb801f343a6efb4763 ==> HTTP STATUS = 200\n",
                    "output_type": "stream"
                },
                {
                    "name": "stdout",
                    "text": "http://www.letour.fr/en/block/history/10776/1d486875bf13f11f37a63ee3a773ccc9 ==> HTTP STATUS = 200\n",
                    "output_type": "stream"
                },
                {
                    "name": "stdout",
                    "text": "http://www.letour.fr/en/block/history/10777/f1773d9b0704ed89afad4012905ec744 ==> HTTP STATUS = 200\n",
                    "output_type": "stream"
                },
                {
                    "name": "stdout",
                    "text": "http://www.letour.fr/en/block/history/10778/8845310ec3c8145620ac465f3e112cca ==> HTTP STATUS = 200\n",
                    "output_type": "stream"
                },
                {
                    "name": "stdout",
                    "text": "http://www.letour.fr/en/block/history/10779/db843b1682239241b56010705153d657 ==> HTTP STATUS = 200\n",
                    "output_type": "stream"
                },
                {
                    "name": "stdout",
                    "text": "http://www.letour.fr/en/block/history/10780/fce0b5e49551473911dadd219da7cb6c ==> HTTP STATUS = 200\n",
                    "output_type": "stream"
                },
                {
                    "name": "stdout",
                    "text": "http://www.letour.fr/en/block/history/10781/39d1113fcd9febaf891760301f41a383 ==> HTTP STATUS = 200\n",
                    "output_type": "stream"
                },
                {
                    "name": "stdout",
                    "text": "http://www.letour.fr/en/block/history/10782/c5cd539d3aed4897b7a087c06fff4e5e ==> HTTP STATUS = 200\n",
                    "output_type": "stream"
                },
                {
                    "name": "stdout",
                    "text": "http://www.letour.fr/en/block/history/10783/0d7fef284362baf0738e2569898bcc5c ==> HTTP STATUS = 200\n",
                    "output_type": "stream"
                },
                {
                    "name": "stdout",
                    "text": "http://www.letour.fr/en/block/history/10784/840372b1c5ef49ced963d12709d2bfe1 ==> HTTP STATUS = 200\n",
                    "output_type": "stream"
                },
                {
                    "name": "stdout",
                    "text": "http://www.letour.fr/en/block/history/10785/88ea8997b2d00f171d74fdd18200c4ac ==> HTTP STATUS = 200\n",
                    "output_type": "stream"
                },
                {
                    "name": "stdout",
                    "text": "http://www.letour.fr/en/block/history/10786/97ba8b33489f910f7217ee3f6bdd68c7 ==> HTTP STATUS = 200\n",
                    "output_type": "stream"
                },
                {
                    "name": "stdout",
                    "text": "http://www.letour.fr/en/block/history/10787/1a04d3c53ae89dcdf73df8027654c1db ==> HTTP STATUS = 200\n",
                    "output_type": "stream"
                },
                {
                    "name": "stdout",
                    "text": "http://www.letour.fr/en/block/history/10788/d98288396c5dbd8446699ad88413632b ==> HTTP STATUS = 200\n",
                    "output_type": "stream"
                },
                {
                    "name": "stdout",
                    "text": "http://www.letour.fr/en/block/history/10789/0073016ba550a84a666f752c64bafef8 ==> HTTP STATUS = 200\n",
                    "output_type": "stream"
                },
                {
                    "name": "stdout",
                    "text": "http://www.letour.fr/en/block/history/10790/ba6803b7f72483da9dcef054d3564bef ==> HTTP STATUS = 200\n",
                    "output_type": "stream"
                },
                {
                    "name": "stdout",
                    "text": "http://www.letour.fr/en/block/history/10791/70c111aba67f7f32344852fc369f445d ==> HTTP STATUS = 200\n",
                    "output_type": "stream"
                },
                {
                    "name": "stdout",
                    "text": "http://www.letour.fr/en/block/history/10792/f892bbc452142340a7dfe883719d7637 ==> HTTP STATUS = 200\n",
                    "output_type": "stream"
                },
                {
                    "name": "stdout",
                    "text": "http://www.letour.fr/en/block/history/10793/532062cd8f6afe8ec3796beeee9fb60d ==> HTTP STATUS = 200\n",
                    "output_type": "stream"
                },
                {
                    "name": "stdout",
                    "text": "http://www.letour.fr/en/block/history/10794/f456958e5bf979def96740c09a39f0d0 ==> HTTP STATUS = 200\n",
                    "output_type": "stream"
                },
                {
                    "name": "stdout",
                    "text": "http://www.letour.fr/en/block/history/10795/0ed86366456d46e1defebebcedef4404 ==> HTTP STATUS = 200\n",
                    "output_type": "stream"
                },
                {
                    "name": "stdout",
                    "text": "http://www.letour.fr/en/block/history/10796/a0c4bbd9f74d2fb237f3fcfd985dcdfe ==> HTTP STATUS = 200\n",
                    "output_type": "stream"
                },
                {
                    "name": "stdout",
                    "text": "http://www.letour.fr/en/block/history/10797/4c6e179ada14b5ea99feaa75cfc5cc27 ==> HTTP STATUS = 200\n",
                    "output_type": "stream"
                },
                {
                    "name": "stdout",
                    "text": "http://www.letour.fr/en/block/history/10798/dc1ea3d295e447e632d63c31d313e22c ==> HTTP STATUS = 200\n",
                    "output_type": "stream"
                },
                {
                    "name": "stdout",
                    "text": "http://www.letour.fr/en/block/history/10799/4df09e2d455b3d4bfea3d78091f0b0b1 ==> HTTP STATUS = 200\n",
                    "output_type": "stream"
                },
                {
                    "name": "stdout",
                    "text": "http://www.letour.fr/en/block/history/10800/14026271ed58df742b5e2182adc964cb ==> HTTP STATUS = 200\n",
                    "output_type": "stream"
                },
                {
                    "name": "stdout",
                    "text": "http://www.letour.fr/en/block/history/10801/7c59f5199df3e8a97888b3ab3deafadb ==> HTTP STATUS = 200\n",
                    "output_type": "stream"
                },
                {
                    "name": "stdout",
                    "text": "http://www.letour.fr/en/block/history/10802/814bff61212e58cf7c2beaddb1c083b3 ==> HTTP STATUS = 200\n",
                    "output_type": "stream"
                },
                {
                    "name": "stdout",
                    "text": "http://www.letour.fr/en/block/history/10803/757e8e81b7183fde7329fd8ab9b69783 ==> HTTP STATUS = 200\n",
                    "output_type": "stream"
                },
                {
                    "name": "stdout",
                    "text": "http://www.letour.fr/en/block/history/10804/89b36b01ffe439e016ec1d59c57b63d1 ==> HTTP STATUS = 200\n",
                    "output_type": "stream"
                },
                {
                    "name": "stdout",
                    "text": "http://www.letour.fr/en/block/history/10805/1ec24b4375d16b922c9c9c489d25465c ==> HTTP STATUS = 200\n",
                    "output_type": "stream"
                },
                {
                    "name": "stdout",
                    "text": "http://www.letour.fr/en/block/history/10806/196e36cfe7aff4b5fc2d1055f7dcf864 ==> HTTP STATUS = 200\n",
                    "output_type": "stream"
                },
                {
                    "name": "stdout",
                    "text": "http://www.letour.fr/en/block/history/10807/d538a7fbdfc0d657fbf064561840fbb1 ==> HTTP STATUS = 200\n",
                    "output_type": "stream"
                },
                {
                    "name": "stdout",
                    "text": "http://www.letour.fr/en/block/history/10808/3f166bedb535ee9bff2fb7ead0a7812c ==> HTTP STATUS = 200\n",
                    "output_type": "stream"
                },
                {
                    "name": "stdout",
                    "text": "http://www.letour.fr/en/block/history/10809/7be3a459d846b4672915c576cb7ed6b9 ==> HTTP STATUS = 200\n",
                    "output_type": "stream"
                },
                {
                    "name": "stdout",
                    "text": "http://www.letour.fr/en/block/history/10810/7035a5dc53631209d3581f64a433b10d ==> HTTP STATUS = 200\n",
                    "output_type": "stream"
                },
                {
                    "name": "stdout",
                    "text": "http://www.letour.fr/en/block/history/11818/f34c3404d95a697dcf77d4cd8e8278fa ==> HTTP STATUS = 200\n",
                    "output_type": "stream"
                },
                {
                    "name": "stdout",
                    "text": "http://www.letour.fr/en/block/history/11819/96c0eb3fa403ebf222f28b6e45115c56 ==> HTTP STATUS = 200\n",
                    "output_type": "stream"
                },
                {
                    "name": "stdout",
                    "text": "http://www.letour.fr/en/block/history/11820/17fa8e795e69e9f326ea26cf9912e571 ==> HTTP STATUS = 200\n",
                    "output_type": "stream"
                },
                {
                    "name": "stdout",
                    "text": "http://www.letour.fr/en/block/history/11821/a3fe7d350ef546e3c27ae83a84fa3a0b ==> HTTP STATUS = 200\n",
                    "output_type": "stream"
                },
                {
                    "name": "stdout",
                    "text": "http://www.letour.fr/en/block/history/11822/ca646e1b4b99d7ee973c457c87392395 ==> HTTP STATUS = 200\n",
                    "output_type": "stream"
                },
                {
                    "name": "stdout",
                    "text": "http://www.letour.fr/en/block/history/11823/4e4949d130f21278f7d8bce32a071d67 ==> HTTP STATUS = 200\n",
                    "output_type": "stream"
                }
            ],
            "execution_count": 70
        },
        {
            "cell_type": "code",
            "source": [
                "dfstageoutput = dfstagesrestmp\n",
                "dfrankoutput = dfrankrestmp"
            ],
            "metadata": {
                "azdata_cell_guid": "d7e093e9-68a8-479e-a029-ceb5c068669d",
                "language": "python",
                "tags": []
            },
            "outputs": [],
            "execution_count": 71
        },
        {
            "cell_type": "code",
            "source": [
                "dfrankoutput"
            ],
            "metadata": {
                "azdata_cell_guid": "a6f4f902-d981-4789-8dca-9dfd69bf7d8e",
                "language": "python",
                "tags": []
            },
            "outputs": [
                {
                    "data": {
                        "text/plain": "     Rank                Rider                   Team          Times  \\\n0       1        FIRMIN LAMBOT           TDF 1919 ***  231h 07' 15''   \n1       2        JEAN ALAVOINE           TDF 1919 ***  232h 50' 09''   \n2       3    EUGÈNE CHRISTOPHE           TDF 1919 ***  233h 33' 46''   \n3       4          LÉON SCIEUR           TDF 1919 ***  233h 59' 30''   \n4       5    HONORÉ BARTHELEMY           TDF 1919 ***  235h 21' 37''   \n..    ...                  ...                    ...            ...   \n145   146  ALEXANDER EDMONDSON   TEAM DSM - FIRMENICH   87h 50' 21''   \n146   147      FREDERIK FRISON            LOTTO DSTNY   88h 01' 02''   \n147   148     YEVGENIY FEDOROV  ASTANA QAZAQSTAN TEAM   88h 02' 19''   \n148   149             CEES BOL  ASTANA QAZAQSTAN TEAM   88h 03' 26''   \n149   150       MICHAEL MØRKØV      SOUDAL QUICK-STEP   88h 12' 53''   \n\n                Gap    B    P  Year  Distance (km)  Number of stages  \\\n0                 -  NaN  NaN  1919           5560                15   \n1    + 01h 42' 54''  NaN  NaN  1919           5560                15   \n2    + 02h 26' 31''  NaN  NaN  1919           5560                15   \n3    + 02h 52' 15''  NaN  NaN  1919           5560                15   \n4    + 04h 14' 22''  NaN  NaN  1919           5560                15   \n..              ...  ...  ...   ...            ...               ...   \n145  + 05h 44' 39''  NaN  NaN  2023           3404                21   \n146  + 05h 55' 20''  NaN  NaN  2023           3404                21   \n147  + 05h 56' 37''  NaN  NaN  2023           3404                21   \n148  + 05h 57' 44''  NaN  NaN  2023           3404                21   \n149  + 06h 07' 11''  NaN  NaN  2023           3404                21   \n\n     TotalSeconds  GapSeconds  \n0          832035           0  \n1          838209        6174  \n2          840826        8791  \n3          842370       10335  \n4          847297       15262  \n..            ...         ...  \n145        316221       20679  \n146        316862       21320  \n147        316939       21397  \n148        317006       21464  \n149        317573       22031  \n\n[9493 rows x 12 columns]",
                        "text/html": "<div>\n<style scoped>\n    .dataframe tbody tr th:only-of-type {\n        vertical-align: middle;\n    }\n\n    .dataframe tbody tr th {\n        vertical-align: top;\n    }\n\n    .dataframe thead th {\n        text-align: right;\n    }\n</style>\n<table border=\"1\" class=\"dataframe\">\n  <thead>\n    <tr style=\"text-align: right;\">\n      <th></th>\n      <th>Rank</th>\n      <th>Rider</th>\n      <th>Team</th>\n      <th>Times</th>\n      <th>Gap</th>\n      <th>B</th>\n      <th>P</th>\n      <th>Year</th>\n      <th>Distance (km)</th>\n      <th>Number of stages</th>\n      <th>TotalSeconds</th>\n      <th>GapSeconds</th>\n    </tr>\n  </thead>\n  <tbody>\n    <tr>\n      <th>0</th>\n      <td>1</td>\n      <td>FIRMIN LAMBOT</td>\n      <td>TDF 1919 ***</td>\n      <td>231h 07' 15''</td>\n      <td>-</td>\n      <td>NaN</td>\n      <td>NaN</td>\n      <td>1919</td>\n      <td>5560</td>\n      <td>15</td>\n      <td>832035</td>\n      <td>0</td>\n    </tr>\n    <tr>\n      <th>1</th>\n      <td>2</td>\n      <td>JEAN ALAVOINE</td>\n      <td>TDF 1919 ***</td>\n      <td>232h 50' 09''</td>\n      <td>+ 01h 42' 54''</td>\n      <td>NaN</td>\n      <td>NaN</td>\n      <td>1919</td>\n      <td>5560</td>\n      <td>15</td>\n      <td>838209</td>\n      <td>6174</td>\n    </tr>\n    <tr>\n      <th>2</th>\n      <td>3</td>\n      <td>EUGÈNE CHRISTOPHE</td>\n      <td>TDF 1919 ***</td>\n      <td>233h 33' 46''</td>\n      <td>+ 02h 26' 31''</td>\n      <td>NaN</td>\n      <td>NaN</td>\n      <td>1919</td>\n      <td>5560</td>\n      <td>15</td>\n      <td>840826</td>\n      <td>8791</td>\n    </tr>\n    <tr>\n      <th>3</th>\n      <td>4</td>\n      <td>LÉON SCIEUR</td>\n      <td>TDF 1919 ***</td>\n      <td>233h 59' 30''</td>\n      <td>+ 02h 52' 15''</td>\n      <td>NaN</td>\n      <td>NaN</td>\n      <td>1919</td>\n      <td>5560</td>\n      <td>15</td>\n      <td>842370</td>\n      <td>10335</td>\n    </tr>\n    <tr>\n      <th>4</th>\n      <td>5</td>\n      <td>HONORÉ BARTHELEMY</td>\n      <td>TDF 1919 ***</td>\n      <td>235h 21' 37''</td>\n      <td>+ 04h 14' 22''</td>\n      <td>NaN</td>\n      <td>NaN</td>\n      <td>1919</td>\n      <td>5560</td>\n      <td>15</td>\n      <td>847297</td>\n      <td>15262</td>\n    </tr>\n    <tr>\n      <th>...</th>\n      <td>...</td>\n      <td>...</td>\n      <td>...</td>\n      <td>...</td>\n      <td>...</td>\n      <td>...</td>\n      <td>...</td>\n      <td>...</td>\n      <td>...</td>\n      <td>...</td>\n      <td>...</td>\n      <td>...</td>\n    </tr>\n    <tr>\n      <th>145</th>\n      <td>146</td>\n      <td>ALEXANDER EDMONDSON</td>\n      <td>TEAM DSM - FIRMENICH</td>\n      <td>87h 50' 21''</td>\n      <td>+ 05h 44' 39''</td>\n      <td>NaN</td>\n      <td>NaN</td>\n      <td>2023</td>\n      <td>3404</td>\n      <td>21</td>\n      <td>316221</td>\n      <td>20679</td>\n    </tr>\n    <tr>\n      <th>146</th>\n      <td>147</td>\n      <td>FREDERIK FRISON</td>\n      <td>LOTTO DSTNY</td>\n      <td>88h 01' 02''</td>\n      <td>+ 05h 55' 20''</td>\n      <td>NaN</td>\n      <td>NaN</td>\n      <td>2023</td>\n      <td>3404</td>\n      <td>21</td>\n      <td>316862</td>\n      <td>21320</td>\n    </tr>\n    <tr>\n      <th>147</th>\n      <td>148</td>\n      <td>YEVGENIY FEDOROV</td>\n      <td>ASTANA QAZAQSTAN TEAM</td>\n      <td>88h 02' 19''</td>\n      <td>+ 05h 56' 37''</td>\n      <td>NaN</td>\n      <td>NaN</td>\n      <td>2023</td>\n      <td>3404</td>\n      <td>21</td>\n      <td>316939</td>\n      <td>21397</td>\n    </tr>\n    <tr>\n      <th>148</th>\n      <td>149</td>\n      <td>CEES BOL</td>\n      <td>ASTANA QAZAQSTAN TEAM</td>\n      <td>88h 03' 26''</td>\n      <td>+ 05h 57' 44''</td>\n      <td>NaN</td>\n      <td>NaN</td>\n      <td>2023</td>\n      <td>3404</td>\n      <td>21</td>\n      <td>317006</td>\n      <td>21464</td>\n    </tr>\n    <tr>\n      <th>149</th>\n      <td>150</td>\n      <td>MICHAEL MØRKØV</td>\n      <td>SOUDAL QUICK-STEP</td>\n      <td>88h 12' 53''</td>\n      <td>+ 06h 07' 11''</td>\n      <td>NaN</td>\n      <td>NaN</td>\n      <td>2023</td>\n      <td>3404</td>\n      <td>21</td>\n      <td>317573</td>\n      <td>22031</td>\n    </tr>\n  </tbody>\n</table>\n<p>9493 rows × 12 columns</p>\n</div>"
                    },
                    "metadata": {},
                    "execution_count": 72,
                    "output_type": "execute_result"
                }
            ],
            "execution_count": 72
        },
        {
            "cell_type": "markdown",
            "source": [
                "## 3) Clean up the data \n"
            ],
            "metadata": {
                "azdata_cell_guid": "f507d80d-eac4-4707-ae66-c27ad6110b0e"
            }
        },
        {
            "cell_type": "code",
            "source": [
                "# Fix result types\n",
                "dfrankoutput[\"ResultType\"] = \"time\"\n",
                "dfrankoutput.loc[dfrankoutput[\"Year\"].isin([1905, 1906, 1908]), \"ResultType\"] = \"null\"\n",
                "dfrankoutput.loc[\n",
                "    dfrankoutput[\"Year\"].isin([1907, 1909, 1910, 1911, 1912]), \"ResultType\"\n",
                "] = \"points\""
            ],
            "metadata": {
                "azdata_cell_guid": "8d7f99b4-0d13-49e5-9019-5750c46eb948",
                "language": "python",
                "tags": []
            },
            "outputs": [],
            "execution_count": 73
        },
        {
            "cell_type": "code",
            "source": [
                "# Fix this weird bug for e.g. year 2006 and 1997\n",
                "for year in np.unique(dfrankoutput[\"Year\"]):\n",
                "    tmp = dfrankoutput[dfrankoutput[\"Year\"] == year].reset_index()\n",
                "    if tmp.loc[0][\"TotalSeconds\"] > tmp.loc[2][\"TotalSeconds\"]:\n",
                "        print(year)\n",
                "# Okay seems to be only for 2006 and 1997"
            ],
            "metadata": {
                "azdata_cell_guid": "5d9f570c-5a9b-4dcf-97e8-9e9ce015d260",
                "language": "python",
                "tags": []
            },
            "outputs": [
                {
                    "name": "stdout",
                    "text": "1997\n2006\n",
                    "output_type": "stream"
                }
            ],
            "execution_count": 74
        },
        {
            "cell_type": "code",
            "source": [
                "tmp = dfrankoutput[dfrankoutput[\"Year\"] == 2006].reset_index()\n",
                "ts = np.array(tmp[\"TotalSeconds\"])\n",
                "gs = np.array(tmp[\"GapSeconds\"])\n",
                "ts[1:] = ts[0] + gs[1:]\n",
                "\n",
                "dfrankoutput.loc[dfrankoutput[\"Year\"] == 2006, \"TotalSeconds\"] = ts\n",
                "\n",
                "tmp = dfrankoutput[dfrankoutput[\"Year\"] == 1997].reset_index()\n",
                "ts = np.array(tmp[\"TotalSeconds\"])\n",
                "gs = np.array(tmp[\"GapSeconds\"])\n",
                "ts[1:] = ts[0] + gs[1:]\n",
                "\n",
                "dfrankoutput.loc[dfrankoutput[\"Year\"] == 1997, \"TotalSeconds\"] = ts"
            ],
            "metadata": {
                "azdata_cell_guid": "c8f17e97-08fe-4ae5-880f-dc5f94968606",
                "language": "python",
                "tags": []
            },
            "outputs": [],
            "execution_count": 75
        },
        {
            "cell_type": "markdown",
            "source": [
                "## 4) Write Data to CSV"
            ],
            "metadata": {
                "azdata_cell_guid": "edd8e8aa-49d7-4175-90d0-62c52258cf5b"
            }
        },
        {
            "cell_type": "code",
            "source": [
                "dfrankoutput.to_csv(\"../data/TDF_Riders_History.csv\")"
            ],
            "metadata": {
                "azdata_cell_guid": "dd5074fe-7f35-47a6-b1d8-e4456b0f05cb",
                "language": "python"
            },
            "outputs": [],
            "execution_count": 76
        },
        {
            "cell_type": "code",
            "source": [
                "dfstageoutput.to_csv(\"../data/TDF_Stages_History.csv\")"
            ],
            "metadata": {
                "azdata_cell_guid": "3c7a71a5-941f-4d15-b3a2-0b36b6557617",
                "language": "python"
            },
            "outputs": [],
            "execution_count": 77
        }
    ]
}