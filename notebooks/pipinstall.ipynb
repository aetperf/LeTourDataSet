{
    "metadata": {
        "kernelspec": {
            "name": "python3",
            "display_name": "Python 3 (ipykernel)",
            "language": "python"
        },
        "language_info": {
            "name": "python",
            "version": "3.8.10",
            "mimetype": "text/x-python",
            "codemirror_mode": {
                "name": "ipython",
                "version": 3
            },
            "pygments_lexer": "ipython3",
            "nbconvert_exporter": "python",
            "file_extension": ".py"
        }
    },
    "nbformat_minor": 2,
    "nbformat": 4,
    "cells": [
        {
            "cell_type": "code",
            "source": [
                "!pip install requests"
            ],
            "metadata": {
                "azdata_cell_guid": "70ee5178-8db9-46ba-ab5f-760da5fc8fe8",
                "language": "python"
            },
            "outputs": [
                {
                    "output_type": "stream",
                    "name": "stdout",
                    "text": "Requirement already satisfied: requests in c:\\users\\romain\\azuredatastudio-python\\lib\\site-packages (2.30.0)\nRequirement already satisfied: charset-normalizer<4,>=2 in c:\\users\\romain\\azuredatastudio-python\\lib\\site-packages (from requests) (3.1.0)\nRequirement already satisfied: certifi>=2017.4.17 in c:\\users\\romain\\azuredatastudio-python\\lib\\site-packages (from requests) (2023.5.7)\nRequirement already satisfied: idna<4,>=2.5 in c:\\users\\romain\\azuredatastudio-python\\lib\\site-packages (from requests) (3.4)\nRequirement already satisfied: urllib3<3,>=1.21.1 in c:\\users\\romain\\azuredatastudio-python\\lib\\site-packages (from requests) (2.0.2)\n"
                },
                {
                    "output_type": "stream",
                    "name": "stderr",
                    "text": "WARNING: You are using pip version 21.1.1; however, version 23.1.2 is available.\nYou should consider upgrading via the 'c:\\users\\romain\\azuredatastudio-python\\python.exe -m pip install --upgrade pip' command.\n"
                }
            ],
            "execution_count": 1
        },
        {
            "cell_type": "code",
            "source": [
                "!pip install html2text"
            ],
            "metadata": {
                "azdata_cell_guid": "cbd3274d-2481-493b-9afb-66c1fa626050",
                "language": "python"
            },
            "outputs": [
                {
                    "output_type": "stream",
                    "name": "stdout",
                    "text": "Collecting html2text\n  Using cached html2text-2020.1.16-py3-none-any.whl (32 kB)\nInstalling collected packages: html2text\nSuccessfully installed html2text-2020.1.16\n"
                },
                {
                    "output_type": "stream",
                    "name": "stderr",
                    "text": "WARNING: You are using pip version 21.1.1; however, version 23.1.2 is available.\nYou should consider upgrading via the 'c:\\users\\romain\\azuredatastudio-python\\python.exe -m pip install --upgrade pip' command.\n"
                }
            ],
            "execution_count": 2
        },
        {
            "cell_type": "code",
            "source": [
                "!pip install beautifulsoup4"
            ],
            "metadata": {
                "azdata_cell_guid": "0160b1d8-c090-460c-b5af-2b76f2f2010e",
                "language": "python"
            },
            "outputs": [
                {
                    "output_type": "stream",
                    "name": "stdout",
                    "text": "Collecting beautifulsoup4\n  Downloading beautifulsoup4-4.12.2-py3-none-any.whl (142 kB)\nCollecting soupsieve>1.2\n  Downloading soupsieve-2.4.1-py3-none-any.whl (36 kB)\nInstalling collected packages: soupsieve, beautifulsoup4\nSuccessfully installed beautifulsoup4-4.12.2 soupsieve-2.4.1\n"
                },
                {
                    "output_type": "stream",
                    "name": "stderr",
                    "text": "WARNING: You are using pip version 21.1.1; however, version 23.1.2 is available.\nYou should consider upgrading via the 'c:\\users\\romain\\azuredatastudio-python\\python.exe -m pip install --upgrade pip' command.\n"
                }
            ],
            "execution_count": 3
        },
        {
            "cell_type": "code",
            "source": [
                "!pip install lxml"
            ],
            "metadata": {
                "azdata_cell_guid": "f662954d-9b29-4581-bc2f-4fcda9ef4a46",
                "language": "python"
            },
            "outputs": [
                {
                    "output_type": "stream",
                    "name": "stdout",
                    "text": "Collecting lxml\n  Downloading lxml-4.9.2-cp38-cp38-win_amd64.whl (3.9 MB)\nInstalling collected packages: lxml\nSuccessfully installed lxml-4.9.2\n"
                },
                {
                    "output_type": "stream",
                    "name": "stderr",
                    "text": "WARNING: You are using pip version 21.1.1; however, version 23.1.2 is available.\nYou should consider upgrading via the 'c:\\users\\romain\\azuredatastudio-python\\python.exe -m pip install --upgrade pip' command.\n"
                }
            ],
            "execution_count": 4
        },
        {
            "cell_type": "code",
            "source": [
                "!pip install html5lib"
            ],
            "metadata": {
                "azdata_cell_guid": "66e5bc49-95d9-4504-8a87-2c4f110d9994",
                "language": "python"
            },
            "outputs": [
                {
                    "output_type": "stream",
                    "name": "stdout",
                    "text": "Collecting html5lib\n"
                },
                {
                    "output_type": "stream",
                    "name": "stdout",
                    "text": "  Using cached html5lib-1.1-py2.py3-none-any.whl (112 kB)\nRequirement already satisfied: webencodings in c:\\users\\romain\\appdata\\roaming\\python\\python38\\site-packages (from html5lib) (0.5.1)\nRequirement already satisfied: six>=1.9 in c:\\users\\romain\\appdata\\roaming\\python\\python38\\site-packages (from html5lib) (1.16.0)\nInstalling collected packages: html5lib\nSuccessfully installed html5lib-1.1\n"
                },
                {
                    "output_type": "stream",
                    "name": "stderr",
                    "text": "WARNING: You are using pip version 21.1.1; however, version 23.1.2 is available.\nYou should consider upgrading via the 'c:\\users\\romain\\azuredatastudio-python\\python.exe -m pip install --upgrade pip' command.\n"
                }
            ],
            "execution_count": 5
        },
        {
            "cell_type": "code",
            "source": [
                "!pip install pandas-read-xml"
            ],
            "metadata": {
                "azdata_cell_guid": "38977fc4-e1da-4bf4-b17c-b6203422b663",
                "language": "python"
            },
            "outputs": [
                {
                    "output_type": "stream",
                    "name": "stdout",
                    "text": "Collecting pandas-read-xml\n  Using cached pandas_read_xml-0.3.1-py3-none-any.whl (6.3 kB)\nCollecting xmltodict\n  Downloading xmltodict-0.13.0-py2.py3-none-any.whl (10.0 kB)\nRequirement already satisfied: pyarrow in c:\\users\\romain\\appdata\\roaming\\python\\python38\\site-packages (from pandas-read-xml) (8.0.0)\n"
                },
                {
                    "output_type": "stream",
                    "name": "stdout",
                    "text": "Requirement already satisfied: requests in c:\\users\\romain\\azuredatastudio-python\\lib\\site-packages (from pandas-read-xml) (2.30.0)\nCollecting zipfile36\n  Using cached zipfile36-0.1.3-py3-none-any.whl (20 kB)\nRequirement already satisfied: pandas in c:\\users\\romain\\appdata\\roaming\\python\\python38\\site-packages (from pandas-read-xml) (1.4.2)\nRequirement already satisfied: urllib3>=1.26.3 in c:\\users\\romain\\azuredatastudio-python\\lib\\site-packages (from pandas-read-xml) (2.0.2)\nCollecting distlib\n  Downloading distlib-0.3.6-py2.py3-none-any.whl (468 kB)\nRequirement already satisfied: pytz>=2020.1 in c:\\users\\romain\\appdata\\roaming\\python\\python38\\site-packages (from pandas->pandas-read-xml) (2022.1)\nRequirement already satisfied: python-dateutil>=2.8.1 in c:\\users\\romain\\appdata\\roaming\\python\\python38\\site-packages (from pandas->pandas-read-xml) (2.8.2)\nRequirement already satisfied: numpy>=1.18.5 in c:\\users\\romain\\appdata\\roaming\\python\\python38\\site-packages (from pandas->pandas-read-xml) (1.22.3)\nRequirement already satisfied: six>=1.5 in c:\\users\\romain\\appdata\\roaming\\python\\python38\\site-packages (from python-dateutil>=2.8.1->pandas->pandas-read-xml) (1.16.0)\nRequirement already satisfied: idna<4,>=2.5 in c:\\users\\romain\\azuredatastudio-python\\lib\\site-packages (from requests->pandas-read-xml) (3.4)\nRequirement already satisfied: charset-normalizer<4,>=2 in c:\\users\\romain\\azuredatastudio-python\\lib\\site-packages (from requests->pandas-read-xml) (3.1.0)\nRequirement already satisfied: certifi>=2017.4.17 in c:\\users\\romain\\azuredatastudio-python\\lib\\site-packages (from requests->pandas-read-xml) (2023.5.7)\nInstalling collected packages: zipfile36, xmltodict, distlib, pandas-read-xml\nSuccessfully installed distlib-0.3.6 pandas-read-xml-0.3.1 xmltodict-0.13.0 zipfile36-0.1.3\n"
                },
                {
                    "output_type": "stream",
                    "name": "stderr",
                    "text": "WARNING: You are using pip version 21.1.1; however, version 23.1.2 is available.\nYou should consider upgrading via the 'c:\\users\\romain\\azuredatastudio-python\\python.exe -m pip install --upgrade pip' command.\n"
                }
            ],
            "execution_count": 6
        },
        {
            "cell_type": "code",
            "source": [],
            "metadata": {
                "azdata_cell_guid": "c1a24bf5-3340-4b74-b234-4c27effb56ed",
                "language": "python"
            },
            "outputs": [],
            "execution_count": null
        }
    ]
}